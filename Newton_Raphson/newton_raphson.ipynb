{
 "cells": [
  {
   "cell_type": "code",
   "execution_count": 1,
   "metadata": {
    "collapsed": true
   },
   "outputs": [],
   "source": [
    "import math\n",
    "import matplotlib.pyplot as plt\n",
    "import numpy as np"
   ]
  },
  {
   "cell_type": "code",
   "execution_count": null,
   "metadata": {
    "collapsed": true
   },
   "outputs": [],
   "source": []
  },
  {
   "cell_type": "code",
   "execution_count": 2,
   "metadata": {},
   "outputs": [],
   "source": [
    "# points\n",
    "x = [0.0, 1.0, 1.3, 2.5, 3.0, 3.3, 4.5, 5.6, 6.0, 7.3, 7.8, 8.1, 8.9, 10.0, 11.0,\n",
    "     12.1, 12.9, 13.5, 14.2, 15.0, 15.8, 16.5, 17.1, 18.0, 19.5, 20.0]\n",
    "# measured values\n",
    "v = [0.1, 1.2, 1.5, 3.8, 3.7, 4.5, 4.7, 5.2, 4.5, 4.3, 2.8, 3.1, 1.5, 0.8, -2.1,\n",
    "     -2.1, -3.5, -4.5, -4.5, -5.3, -4.1, -4.5, -3.1, -3.7, -1.5, -0.1]"
   ]
  },
  {
   "cell_type": "code",
   "execution_count": null,
   "metadata": {
    "collapsed": true
   },
   "outputs": [],
   "source": []
  },
  {
   "cell_type": "code",
   "execution_count": null,
   "metadata": {
    "collapsed": true
   },
   "outputs": [],
   "source": []
  },
  {
   "cell_type": "code",
   "execution_count": 3,
   "metadata": {
    "collapsed": true
   },
   "outputs": [],
   "source": [
    "def f1(A, w):\n",
    "    res = 0\n",
    "    for i in range(26):\n",
    "        sinwx = math.sin(w*x[i])\n",
    "        res += sinwx * (A * sinwx - v[i])\n",
    "    \n",
    "    res *= 2\n",
    "    return res"
   ]
  },
  {
   "cell_type": "code",
   "execution_count": 4,
   "metadata": {
    "collapsed": true
   },
   "outputs": [],
   "source": [
    "def f2(A, w):\n",
    "    res = 0\n",
    "    for i in range(26):\n",
    "        res += A*math.cos(w*x[i]) * x[i] * (A*math.sin(w*x[i]) - v[i])\n",
    "    \n",
    "    res *= 2\n",
    "    return res"
   ]
  },
  {
   "cell_type": "code",
   "execution_count": null,
   "metadata": {
    "collapsed": true
   },
   "outputs": [],
   "source": []
  },
  {
   "cell_type": "code",
   "execution_count": 5,
   "metadata": {
    "collapsed": true
   },
   "outputs": [],
   "source": [
    "def f1_wrt_A(A, w):\n",
    "    res = 0\n",
    "    for i in range(26):\n",
    "        res += math.sin(w*x[i])**2\n",
    "    \n",
    "    res *= 2\n",
    "    return res"
   ]
  },
  {
   "cell_type": "code",
   "execution_count": 6,
   "metadata": {
    "collapsed": true
   },
   "outputs": [],
   "source": [
    "def f1_wrt_w(A, w):\n",
    "    res = 0\n",
    "    for i in range(26):\n",
    "        sinwx = math.sin(w*x[i])\n",
    "        coswx = math.cos(w*x[i])\n",
    "        res += (A*sinwx - v[i]) * coswx * x[i] + sinwx * A * coswx*x[i]\n",
    "    \n",
    "    res *= 2\n",
    "    return res"
   ]
  },
  {
   "cell_type": "code",
   "execution_count": null,
   "metadata": {
    "collapsed": true
   },
   "outputs": [],
   "source": []
  },
  {
   "cell_type": "code",
   "execution_count": 7,
   "metadata": {
    "collapsed": true
   },
   "outputs": [],
   "source": [
    "def f2_wrt_A(A, w):\n",
    "    return f1_wrt_w(A, w)"
   ]
  },
  {
   "cell_type": "code",
   "execution_count": 8,
   "metadata": {},
   "outputs": [],
   "source": [
    "def f2_wrt_w(A, w):\n",
    "    res = 0\n",
    "    for i in range(26):\n",
    "        sinwx = math.sin(w*x[i])\n",
    "        coswx = math.cos(w*x[i])\n",
    "        res += A*A*x[i]*x[i]*coswx**2 - A*sinwx*x[i]**2 * (A*sinwx - v[i])\n",
    "        \n",
    "    res *= 2\n",
    "    return res"
   ]
  },
  {
   "cell_type": "code",
   "execution_count": null,
   "metadata": {
    "collapsed": true
   },
   "outputs": [],
   "source": []
  },
  {
   "cell_type": "code",
   "execution_count": 9,
   "metadata": {
    "collapsed": true
   },
   "outputs": [],
   "source": [
    "def inv_2x2(M):\n",
    "    det = M[0][0] * M[1][1] - M[0][1] * M[1][0]\n",
    "    res = [[M[1][1] / det, -M[0][1] / det], [-M[1][0] / det, M[0][0] / det]]\n",
    "    \n",
    "    return res"
   ]
  },
  {
   "cell_type": "code",
   "execution_count": null,
   "metadata": {
    "collapsed": true
   },
   "outputs": [],
   "source": []
  },
  {
   "cell_type": "code",
   "execution_count": 10,
   "metadata": {
    "collapsed": true
   },
   "outputs": [],
   "source": [
    "A = max(max(v), abs(min(v)))\n",
    "w = 0.25\n",
    "\n",
    "eps = 1e-8"
   ]
  },
  {
   "cell_type": "code",
   "execution_count": null,
   "metadata": {
    "collapsed": true
   },
   "outputs": [],
   "source": []
  },
  {
   "cell_type": "code",
   "execution_count": 11,
   "metadata": {},
   "outputs": [
    {
     "name": "stdout",
     "output_type": "stream",
     "text": [
      "5.420047255230958 0.35309275647522087\n",
      "5.93351645278975 0.30083804191865193\n",
      "4.874362247853318 0.3087674378596996\n",
      "4.846052972591454 0.3099317888686435\n",
      "4.845537066324397 0.3099294631799258\n",
      "4.845537066830033 0.3099294630209298\n"
     ]
    }
   ],
   "source": [
    "converged = False\n",
    "\n",
    "while not converged:\n",
    "    J = [[f1_wrt_A(A, w), f1_wrt_w(A, w)], [f2_wrt_A(A, w), f2_wrt_w(A, w)]]\n",
    "    J_inv = inv_2x2(J)\n",
    "    f1Aw = -f1(A, w)\n",
    "    f2Aw = -f2(A, w)\n",
    "    \n",
    "    dA = J_inv[0][0] * f1Aw + J_inv[0][1] * f2Aw\n",
    "    dw = J_inv[1][0] * f1Aw + J_inv[1][1] * f2Aw\n",
    "    \n",
    "    A += dA\n",
    "    w += dw\n",
    "    \n",
    "    print(A, w)\n",
    "    \n",
    "    if abs(dA) < eps and abs(dw) < eps:\n",
    "        converged = True"
   ]
  },
  {
   "cell_type": "code",
   "execution_count": null,
   "metadata": {
    "collapsed": true
   },
   "outputs": [],
   "source": []
  },
  {
   "cell_type": "code",
   "execution_count": 15,
   "metadata": {},
   "outputs": [
    {
     "data": {
      "image/png": "[encoded data removed]",
      "text/plain": [
       "<matplotlib.figure.Figure at 0x7fc360087780>"
      ]
     },
     "metadata": {},
     "output_type": "display_data"
    }
   ],
   "source": [
    "%matplotlib inline\n",
    "xs = np.linspace(min(x), max(x), num=100)\n",
    "ys = np.array([A*math.sin(w*x) for x in xs])\n",
    "plt.plot(xs, ys)\n",
    "plt.plot(x, v, \"ro\")\n",
    "plt.show()"
   ]
  },
  {
   "cell_type": "code",
   "execution_count": null,
   "metadata": {
    "collapsed": true
   },
   "outputs": [],
   "source": []
  }
 ],
 "metadata": {
  "kernelspec": {
   "display_name": "Python 3",
   "language": "python",
   "name": "python3"
  },
  "language_info": {
   "codemirror_mode": {
    "name": "ipython",
    "version": 3
   },
   "file_extension": ".py",
   "mimetype": "text/x-python",
   "name": "python",
   "nbconvert_exporter": "python",
   "pygments_lexer": "ipython3",
   "version": "3.5.2"
  }
 },
 "nbformat": 4,
 "nbformat_minor": 2
}
