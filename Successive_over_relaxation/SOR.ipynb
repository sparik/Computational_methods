{
 "cells": [
  {
   "cell_type": "code",
   "execution_count": 11,
   "metadata": {
    "collapsed": true
   },
   "outputs": [],
   "source": [
    "import matplotlib.pyplot as plt"
   ]
  },
  {
   "cell_type": "code",
   "execution_count": 12,
   "metadata": {
    "collapsed": true
   },
   "outputs": [],
   "source": [
    "A = [[-4, 1, 0, 0, 0, 0, 0, 0, 0, 0],\n",
    "[1, -4, 1, 0, 0, 0, 0, 0, 0, 0],\n",
    "[0, 1, -4, 1, 0, 0, 0, 0, 0, 0],\n",
    "[0, 0, 1, -4, 1, 0, 0, 0, 0, 0],\n",
    "[0, 0, 0, 1, -4, 1, 0, 0, 0, 0],\n",
    "[0, 0, 0, 0, 1, -4, 1, 0, 0, 0],\n",
    "[0, 0, 0, 0, 0, 1, -4, 1, 0, 0],\n",
    "[0, 0, 0, 0, 0, 0, 1, -4, 1, 0],\n",
    "[0, 0, 0, 0, 0, 0, 0, 1, -4, 1],\n",
    "[0, 0, 0, 0, 0, 0, 0, 0, 1, -4]]"
   ]
  },
  {
   "cell_type": "code",
   "execution_count": 13,
   "metadata": {
    "collapsed": true
   },
   "outputs": [],
   "source": [
    "b = [-27, -15, -15, -15, -15, -15, -15, -15, -15, -15]"
   ]
  },
  {
   "cell_type": "code",
   "execution_count": 14,
   "metadata": {
    "collapsed": true
   },
   "outputs": [],
   "source": [
    "omegas = [0.8, 1.0, 1.1, 1.2, 1.5]"
   ]
  },
  {
   "cell_type": "code",
   "execution_count": 15,
   "metadata": {
    "collapsed": true
   },
   "outputs": [],
   "source": [
    "### tolerance for checking convergence\n",
    "eps = 1e-4"
   ]
  },
  {
   "cell_type": "code",
   "execution_count": 16,
   "metadata": {
    "collapsed": true
   },
   "outputs": [],
   "source": [
    "### function to solve Ax=b using successive over-relaxation technique (with parameter omega=w)\n",
    "def SOR(A, b, w):\n",
    "    n = len(A)\n",
    "    x = [0]*n\n",
    "    \n",
    "    iter_cnt = 0\n",
    "    \n",
    "    while True:\n",
    "        maxnorm = 0\n",
    "        for i in range(n):\n",
    "            s = 0\n",
    "            for j in range(n):\n",
    "                if j != i:\n",
    "                    s += x[j] * A[i][j]\n",
    "            newxi = (1 - w) * x[i] + w / A[i][i] * (b[i] - s)\n",
    "            maxnorm = max(abs(newxi - x[i]), maxnorm)\n",
    "            x[i] = newxi\n",
    "            \n",
    "        iter_cnt += 1\n",
    "        if maxnorm < eps:\n",
    "            break\n",
    "    \n",
    "    return x, iter_cnt"
   ]
  },
  {
   "cell_type": "code",
   "execution_count": 17,
   "metadata": {},
   "outputs": [],
   "source": [
    "solution = SOR(A, b, 0.8)[0]"
   ]
  },
  {
   "cell_type": "code",
   "execution_count": 18,
   "metadata": {},
   "outputs": [
    {
     "name": "stdout",
     "output_type": "stream",
     "text": [
      "x0 = 8.705703\n",
      "x1 = 7.822953\n",
      "x2 = 7.586287\n",
      "x3 = 7.522374\n",
      "x4 = 7.503374\n",
      "x5 = 7.491256\n",
      "x6 = 7.461750\n",
      "x7 = 7.355814\n",
      "x8 = 6.961545\n",
      "x9 = 5.490385\n"
     ]
    }
   ],
   "source": [
    "for i, x in enumerate(solution):\n",
    "    print(\"x%d = %f\" % (i, x))"
   ]
  },
  {
   "cell_type": "code",
   "execution_count": 19,
   "metadata": {
    "collapsed": true
   },
   "outputs": [],
   "source": [
    "### iteration counts until convergence for each omega\n",
    "iter_cnts = [SOR(A, b, w)[1] for w in omegas]"
   ]
  },
  {
   "cell_type": "code",
   "execution_count": 20,
   "metadata": {},
   "outputs": [
    {
     "data": {
      "image/png": "[encoded data removed]",
      "text/plain": [
       "<matplotlib.figure.Figure at 0x7f62a921e2e8>"
      ]
     },
     "metadata": {},
     "output_type": "display_data"
    }
   ],
   "source": [
    "### plot the omega vs number-of-iterations graph\n",
    "plt.plot(omegas, iter_cnts)\n",
    "plt.xlabel('omega')\n",
    "plt.ylabel('steps') \n",
    "plt.show()"
   ]
  },
  {
   "cell_type": "code",
   "execution_count": null,
   "metadata": {
    "collapsed": true
   },
   "outputs": [],
   "source": []
  }
 ],
 "metadata": {
  "kernelspec": {
   "display_name": "Python 3",
   "language": "python",
   "name": "python3"
  },
  "language_info": {
   "codemirror_mode": {
    "name": "ipython",
    "version": 3
   },
   "file_extension": ".py",
   "mimetype": "text/x-python",
   "name": "python",
   "nbconvert_exporter": "python",
   "pygments_lexer": "ipython3",
   "version": "3.5.2"
  }
 },
 "nbformat": 4,
 "nbformat_minor": 2
}
